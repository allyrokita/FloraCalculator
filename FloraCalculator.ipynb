{
 "cells": [
  {
   "cell_type": "markdown",
   "id": "fa268603-36fe-44fe-9372-0210d9f3de4e",
   "metadata": {},
   "source": [
    "# Plant and Fungal Calculator\n",
    "How many different types plants and fungus have you consumed this past week?"
   ]
  },
  {
   "cell_type": "code",
   "execution_count": null,
   "id": "d8ff705e-a4c7-4c61-8276-b4e4131d88aa",
   "metadata": {},
   "outputs": [],
   "source": [
    "# Import packages\n"
   ]
  },
  {
   "cell_type": "code",
   "execution_count": 1,
   "id": "c32ea8ac-14ae-410c-b8f6-8756086dfa5a",
   "metadata": {},
   "outputs": [],
   "source": []
  },
  {
   "cell_type": "code",
   "execution_count": 62,
   "id": "e3d43eca-831b-49f4-a5da-090a2f00d405",
   "metadata": {},
   "outputs": [
    {
     "data": {
      "text/plain": [
       "'\\n# methods to input into list\\nname = input(\"Enter what you ate: \")\\n# Append input\\nif name is not str:\\n    print(\\'Error.\\')\\nelif name.lower not in flora:\\n    flora.append(name)\\nelse:\\n    print(\\'your mom\\')\\n'"
      ]
     },
     "execution_count": 62,
     "metadata": {},
     "output_type": "execute_result"
    }
   ],
   "source": [
    "# Create a container/empty list for user inputs to go into outside of function so it doesn't refresh everytime the function is used\n",
    "flora = []\n",
    "def FloraCalculator():\n",
    "    \"\"\"\n",
    "    A function that counts the total number of plants & fungi a user consumes.\n",
    "    \"\"\"\n",
    "    while True:\n",
    "        user_input = input(\"Enter what you ate (or type 'quit' to stop): \")\n",
    "        if user_input.lower() == 'quit':\n",
    "            break\n",
    "        if user_input.replace(\" \", \"\").isalpha() and user_input.lower() not in flora:\n",
    "            flora.append(user_input.lower())\n",
    "    return flora\n"
   ]
  },
  {
   "cell_type": "code",
   "execution_count": 65,
   "id": "31c69e05-b728-46b5-a7b7-6527acb62b14",
   "metadata": {},
   "outputs": [
    {
     "name": "stdin",
     "output_type": "stream",
     "text": [
      "Enter what you ate (or type 'quit' to stop):  TURMERIC\n",
      "Enter what you ate (or type 'quit' to stop):  Pickles\n",
      "Enter what you ate (or type 'quit' to stop):  72\n",
      "Enter what you ate (or type 'quit' to stop):  lettuce\n",
      "Enter what you ate (or type 'quit' to stop):  quit\n"
     ]
    }
   ],
   "source": [
    "flora_total =FloraCalculator()"
   ]
  },
  {
   "cell_type": "code",
   "execution_count": 66,
   "id": "4896e0f1-1e8c-4006-acf4-707f0d0b4b33",
   "metadata": {},
   "outputs": [
    {
     "name": "stdout",
     "output_type": "stream",
     "text": [
      "['oranges', 'onions', 'turmeric', 'celery', 'pickles', 'lettuce']\n",
      "6\n"
     ]
    }
   ],
   "source": [
    "print(list(flora_total))\n",
    "print(len(flora_total))"
   ]
  },
  {
   "cell_type": "markdown",
   "id": "200ef5ce-a6f4-4a62-9750-ee37fe7f0e7a",
   "metadata": {},
   "source": [
    "## Want to expand it by a couple different means...\n",
    "### If user inputs \"veggie burger\" or whatever, I want the app to break down the flora to [soy, wheat, sugar, lettuce, tomato, ect.].\n",
    "\n",
    "### Additionally, if there is a repeat of an item, I don't want it to be counted."
   ]
  },
  {
   "cell_type": "code",
   "execution_count": null,
   "id": "65301f3c-4ca3-4477-9c61-48937c1d20fd",
   "metadata": {},
   "outputs": [],
   "source": []
  }
 ],
 "metadata": {
  "kernelspec": {
   "display_name": "Python 3 (ipykernel)",
   "language": "python",
   "name": "python3"
  },
  "language_info": {
   "codemirror_mode": {
    "name": "ipython",
    "version": 3
   },
   "file_extension": ".py",
   "mimetype": "text/x-python",
   "name": "python",
   "nbconvert_exporter": "python",
   "pygments_lexer": "ipython3",
   "version": "3.12.7"
  }
 },
 "nbformat": 4,
 "nbformat_minor": 5
}
